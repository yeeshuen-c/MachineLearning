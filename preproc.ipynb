{
 "cells": [
  {
   "cell_type": "code",
   "execution_count": 1,
   "id": "d92f5a0c",
   "metadata": {},
   "outputs": [],
   "source": [
    "import pandas as pd\n",
    "import nltk\n",
    "import string"
   ]
  },
  {
   "cell_type": "markdown",
   "id": "e90a53d6",
   "metadata": {},
   "source": [
    "### Load"
   ]
  },
  {
   "cell_type": "code",
   "execution_count": 2,
   "id": "b4f57562",
   "metadata": {},
   "outputs": [],
   "source": [
    "df= pd.read_csv(r\"D:\\OneDrive - Universiti Sains Malaysia\\USM\\Y3S1\\353 NLP\\assg\\assg1\\data\\cons_only.csv\",encoding='latin')\n",
    "df2= pd.read_csv(r\"D:\\OneDrive - Universiti Sains Malaysia\\USM\\Y3S1\\353 NLP\\assg\\assg1\\data\\pros_only.csv\",encoding='latin')"
   ]
  },
  {
   "cell_type": "code",
   "execution_count": 3,
   "id": "8bbf5896",
   "metadata": {},
   "outputs": [
    {
     "data": {
      "text/html": [
       "<div>\n",
       "<style scoped>\n",
       "    .dataframe tbody tr th:only-of-type {\n",
       "        vertical-align: middle;\n",
       "    }\n",
       "\n",
       "    .dataframe tbody tr th {\n",
       "        vertical-align: top;\n",
       "    }\n",
       "\n",
       "    .dataframe thead th {\n",
       "        text-align: right;\n",
       "    }\n",
       "</style>\n",
       "<table border=\"1\" class=\"dataframe\">\n",
       "  <thead>\n",
       "    <tr style=\"text-align: right;\">\n",
       "      <th></th>\n",
       "      <th>company</th>\n",
       "      <th>cons</th>\n",
       "    </tr>\n",
       "  </thead>\n",
       "  <tbody>\n",
       "    <tr>\n",
       "      <th>0</th>\n",
       "      <td>google</td>\n",
       "      <td>Bureaucracy is slowing things down</td>\n",
       "    </tr>\n",
       "    <tr>\n",
       "      <th>1</th>\n",
       "      <td>google</td>\n",
       "      <td>1) Work/life balance. What balance? All those ...</td>\n",
       "    </tr>\n",
       "    <tr>\n",
       "      <th>2</th>\n",
       "      <td>google</td>\n",
       "      <td>* It *is* becoming larger, and with it comes g...</td>\n",
       "    </tr>\n",
       "    <tr>\n",
       "      <th>3</th>\n",
       "      <td>google</td>\n",
       "      <td>I live in SF so the commute can take between 1...</td>\n",
       "    </tr>\n",
       "    <tr>\n",
       "      <th>4</th>\n",
       "      <td>google</td>\n",
       "      <td>If you don't work in MTV (HQ), you will be giv...</td>\n",
       "    </tr>\n",
       "  </tbody>\n",
       "</table>\n",
       "</div>"
      ],
      "text/plain": [
       "  company                                               cons\n",
       "0  google                 Bureaucracy is slowing things down\n",
       "1  google  1) Work/life balance. What balance? All those ...\n",
       "2  google  * It *is* becoming larger, and with it comes g...\n",
       "3  google  I live in SF so the commute can take between 1...\n",
       "4  google  If you don't work in MTV (HQ), you will be giv..."
      ]
     },
     "execution_count": 3,
     "metadata": {},
     "output_type": "execute_result"
    }
   ],
   "source": [
    "df.head()"
   ]
  },
  {
   "cell_type": "code",
   "execution_count": 4,
   "id": "4ee4bc05",
   "metadata": {
    "scrolled": true
   },
   "outputs": [
    {
     "data": {
      "text/html": [
       "<div>\n",
       "<style scoped>\n",
       "    .dataframe tbody tr th:only-of-type {\n",
       "        vertical-align: middle;\n",
       "    }\n",
       "\n",
       "    .dataframe tbody tr th {\n",
       "        vertical-align: top;\n",
       "    }\n",
       "\n",
       "    .dataframe thead th {\n",
       "        text-align: right;\n",
       "    }\n",
       "</style>\n",
       "<table border=\"1\" class=\"dataframe\">\n",
       "  <thead>\n",
       "    <tr style=\"text-align: right;\">\n",
       "      <th></th>\n",
       "      <th>ï»¿company</th>\n",
       "      <th>pros</th>\n",
       "    </tr>\n",
       "  </thead>\n",
       "  <tbody>\n",
       "    <tr>\n",
       "      <th>0</th>\n",
       "      <td>google</td>\n",
       "      <td>People are smart and friendly</td>\n",
       "    </tr>\n",
       "    <tr>\n",
       "      <th>1</th>\n",
       "      <td>google</td>\n",
       "      <td>1) Food, food, food. 15+ cafes on main campus ...</td>\n",
       "    </tr>\n",
       "    <tr>\n",
       "      <th>2</th>\n",
       "      <td>google</td>\n",
       "      <td>* If you're a software engineer, you're among ...</td>\n",
       "    </tr>\n",
       "    <tr>\n",
       "      <th>3</th>\n",
       "      <td>google</td>\n",
       "      <td>You can't find a more well-regarded company th...</td>\n",
       "    </tr>\n",
       "    <tr>\n",
       "      <th>4</th>\n",
       "      <td>google</td>\n",
       "      <td>Google is a world of its own. At every other c...</td>\n",
       "    </tr>\n",
       "  </tbody>\n",
       "</table>\n",
       "</div>"
      ],
      "text/plain": [
       "  ï»¿company                                               pros\n",
       "0     google                      People are smart and friendly\n",
       "1     google  1) Food, food, food. 15+ cafes on main campus ...\n",
       "2     google  * If you're a software engineer, you're among ...\n",
       "3     google  You can't find a more well-regarded company th...\n",
       "4     google  Google is a world of its own. At every other c..."
      ]
     },
     "execution_count": 4,
     "metadata": {},
     "output_type": "execute_result"
    }
   ],
   "source": [
    "df2.head()"
   ]
  },
  {
   "cell_type": "markdown",
   "id": "1e816fb6",
   "metadata": {},
   "source": [
    "### Visualize"
   ]
  },
  {
   "cell_type": "code",
   "execution_count": 20,
   "id": "9def25e5",
   "metadata": {},
   "outputs": [],
   "source": [
    "import pandas\n",
    "import matplotlib.pyplot as plt\n",
    "from sklearn.preprocessing import LabelEncoder"
   ]
  },
  {
   "cell_type": "code",
   "execution_count": 23,
   "id": "fce8c396",
   "metadata": {},
   "outputs": [
    {
     "data": {
      "text/html": [
       "<div>\n",
       "<style scoped>\n",
       "    .dataframe tbody tr th:only-of-type {\n",
       "        vertical-align: middle;\n",
       "    }\n",
       "\n",
       "    .dataframe tbody tr th {\n",
       "        vertical-align: top;\n",
       "    }\n",
       "\n",
       "    .dataframe thead th {\n",
       "        text-align: right;\n",
       "    }\n",
       "</style>\n",
       "<table border=\"1\" class=\"dataframe\">\n",
       "  <thead>\n",
       "    <tr style=\"text-align: right;\">\n",
       "      <th></th>\n",
       "      <th>Unnamed: 0</th>\n",
       "      <th>company</th>\n",
       "      <th>pros</th>\n",
       "      <th>cons</th>\n",
       "      <th>overall-ratings</th>\n",
       "      <th>work-balance-stars</th>\n",
       "      <th>culture-values-stars</th>\n",
       "      <th>career-opportunities-stars</th>\n",
       "      <th>comp-benefit-stars</th>\n",
       "      <th>senior-management-stars</th>\n",
       "    </tr>\n",
       "  </thead>\n",
       "  <tbody>\n",
       "    <tr>\n",
       "      <th>0</th>\n",
       "      <td>1</td>\n",
       "      <td>google</td>\n",
       "      <td>People are smart and friendly</td>\n",
       "      <td>Bureaucracy is slowing things down</td>\n",
       "      <td>5</td>\n",
       "      <td>4.0</td>\n",
       "      <td>5</td>\n",
       "      <td>5.0</td>\n",
       "      <td>4.0</td>\n",
       "      <td>5.0</td>\n",
       "    </tr>\n",
       "    <tr>\n",
       "      <th>1</th>\n",
       "      <td>2</td>\n",
       "      <td>google</td>\n",
       "      <td>1) Food, food, food. 15+ cafes on main campus ...</td>\n",
       "      <td>1) Work/life balance. What balance? All those ...</td>\n",
       "      <td>4</td>\n",
       "      <td>2.0</td>\n",
       "      <td>3</td>\n",
       "      <td>3.0</td>\n",
       "      <td>5.0</td>\n",
       "      <td>3.0</td>\n",
       "    </tr>\n",
       "    <tr>\n",
       "      <th>2</th>\n",
       "      <td>3</td>\n",
       "      <td>google</td>\n",
       "      <td>* If you're a software engineer, you're among ...</td>\n",
       "      <td>* It *is* becoming larger, and with it comes g...</td>\n",
       "      <td>5</td>\n",
       "      <td>5.0</td>\n",
       "      <td>4</td>\n",
       "      <td>5.0</td>\n",
       "      <td>5.0</td>\n",
       "      <td>4.0</td>\n",
       "    </tr>\n",
       "    <tr>\n",
       "      <th>3</th>\n",
       "      <td>4</td>\n",
       "      <td>google</td>\n",
       "      <td>You can't find a more well-regarded company th...</td>\n",
       "      <td>I live in SF so the commute can take between 1...</td>\n",
       "      <td>5</td>\n",
       "      <td>2.0</td>\n",
       "      <td>5</td>\n",
       "      <td>5.0</td>\n",
       "      <td>4.0</td>\n",
       "      <td>5.0</td>\n",
       "    </tr>\n",
       "    <tr>\n",
       "      <th>4</th>\n",
       "      <td>5</td>\n",
       "      <td>google</td>\n",
       "      <td>Google is a world of its own. At every other c...</td>\n",
       "      <td>If you don't work in MTV (HQ), you will be giv...</td>\n",
       "      <td>5</td>\n",
       "      <td>5.0</td>\n",
       "      <td>5</td>\n",
       "      <td>5.0</td>\n",
       "      <td>5.0</td>\n",
       "      <td>5.0</td>\n",
       "    </tr>\n",
       "  </tbody>\n",
       "</table>\n",
       "</div>"
      ],
      "text/plain": [
       "   Unnamed: 0 company                                               pros  \\\n",
       "0           1  google                      People are smart and friendly   \n",
       "1           2  google  1) Food, food, food. 15+ cafes on main campus ...   \n",
       "2           3  google  * If you're a software engineer, you're among ...   \n",
       "3           4  google  You can't find a more well-regarded company th...   \n",
       "4           5  google  Google is a world of its own. At every other c...   \n",
       "\n",
       "                                                cons  overall-ratings  \\\n",
       "0                 Bureaucracy is slowing things down                5   \n",
       "1  1) Work/life balance. What balance? All those ...                4   \n",
       "2  * It *is* becoming larger, and with it comes g...                5   \n",
       "3  I live in SF so the commute can take between 1...                5   \n",
       "4  If you don't work in MTV (HQ), you will be giv...                5   \n",
       "\n",
       "   work-balance-stars  culture-values-stars  career-opportunities-stars  \\\n",
       "0                 4.0                     5                         5.0   \n",
       "1                 2.0                     3                         3.0   \n",
       "2                 5.0                     4                         5.0   \n",
       "3                 2.0                     5                         5.0   \n",
       "4                 5.0                     5                         5.0   \n",
       "\n",
       "   comp-benefit-stars  senior-management-stars  \n",
       "0                 4.0                      5.0  \n",
       "1                 5.0                      3.0  \n",
       "2                 5.0                      4.0  \n",
       "3                 4.0                      5.0  \n",
       "4                 5.0                      5.0  "
      ]
     },
     "execution_count": 23,
     "metadata": {},
     "output_type": "execute_result"
    }
   ],
   "source": [
    "df_visualize= pd.read_csv(r\"D:\\OneDrive - Universiti Sains Malaysia\\USM\\Y3S1\\353 NLP\\assg\\assg1\\data/employee_reviews.csv\", encoding='mac_roman')\n",
    "df_visualize.head()"
   ]
  },
  {
   "cell_type": "code",
   "execution_count": 34,
   "id": "992be58d",
   "metadata": {},
   "outputs": [
    {
     "data": {
      "text/html": [
       "<div>\n",
       "<style scoped>\n",
       "    .dataframe tbody tr th:only-of-type {\n",
       "        vertical-align: middle;\n",
       "    }\n",
       "\n",
       "    .dataframe tbody tr th {\n",
       "        vertical-align: top;\n",
       "    }\n",
       "\n",
       "    .dataframe thead th {\n",
       "        text-align: right;\n",
       "    }\n",
       "</style>\n",
       "<table border=\"1\" class=\"dataframe\">\n",
       "  <thead>\n",
       "    <tr style=\"text-align: right;\">\n",
       "      <th></th>\n",
       "      <th>Unnamed: 0</th>\n",
       "      <th>company</th>\n",
       "      <th>pros</th>\n",
       "      <th>cons</th>\n",
       "      <th>overall-ratings</th>\n",
       "      <th>work-balance-stars</th>\n",
       "      <th>culture-values-stars</th>\n",
       "      <th>career-opportunities-stars</th>\n",
       "      <th>comp-benefit-stars</th>\n",
       "      <th>senior-management-stars</th>\n",
       "      <th>company_encoded</th>\n",
       "    </tr>\n",
       "  </thead>\n",
       "  <tbody>\n",
       "    <tr>\n",
       "      <th>0</th>\n",
       "      <td>1</td>\n",
       "      <td>google</td>\n",
       "      <td>People are smart and friendly</td>\n",
       "      <td>Bureaucracy is slowing things down</td>\n",
       "      <td>5</td>\n",
       "      <td>4.0</td>\n",
       "      <td>5</td>\n",
       "      <td>5.0</td>\n",
       "      <td>4.0</td>\n",
       "      <td>5.0</td>\n",
       "      <td>3</td>\n",
       "    </tr>\n",
       "    <tr>\n",
       "      <th>1</th>\n",
       "      <td>2</td>\n",
       "      <td>google</td>\n",
       "      <td>1) Food, food, food. 15+ cafes on main campus ...</td>\n",
       "      <td>1) Work/life balance. What balance? All those ...</td>\n",
       "      <td>4</td>\n",
       "      <td>2.0</td>\n",
       "      <td>3</td>\n",
       "      <td>3.0</td>\n",
       "      <td>5.0</td>\n",
       "      <td>3.0</td>\n",
       "      <td>3</td>\n",
       "    </tr>\n",
       "    <tr>\n",
       "      <th>2</th>\n",
       "      <td>3</td>\n",
       "      <td>google</td>\n",
       "      <td>* If you're a software engineer, you're among ...</td>\n",
       "      <td>* It *is* becoming larger, and with it comes g...</td>\n",
       "      <td>5</td>\n",
       "      <td>5.0</td>\n",
       "      <td>4</td>\n",
       "      <td>5.0</td>\n",
       "      <td>5.0</td>\n",
       "      <td>4.0</td>\n",
       "      <td>3</td>\n",
       "    </tr>\n",
       "    <tr>\n",
       "      <th>3</th>\n",
       "      <td>4</td>\n",
       "      <td>google</td>\n",
       "      <td>You can't find a more well-regarded company th...</td>\n",
       "      <td>I live in SF so the commute can take between 1...</td>\n",
       "      <td>5</td>\n",
       "      <td>2.0</td>\n",
       "      <td>5</td>\n",
       "      <td>5.0</td>\n",
       "      <td>4.0</td>\n",
       "      <td>5.0</td>\n",
       "      <td>3</td>\n",
       "    </tr>\n",
       "    <tr>\n",
       "      <th>4</th>\n",
       "      <td>5</td>\n",
       "      <td>google</td>\n",
       "      <td>Google is a world of its own. At every other c...</td>\n",
       "      <td>If you don't work in MTV (HQ), you will be giv...</td>\n",
       "      <td>5</td>\n",
       "      <td>5.0</td>\n",
       "      <td>5</td>\n",
       "      <td>5.0</td>\n",
       "      <td>5.0</td>\n",
       "      <td>5.0</td>\n",
       "      <td>3</td>\n",
       "    </tr>\n",
       "  </tbody>\n",
       "</table>\n",
       "</div>"
      ],
      "text/plain": [
       "   Unnamed: 0 company                                               pros  \\\n",
       "0           1  google                      People are smart and friendly   \n",
       "1           2  google  1) Food, food, food. 15+ cafes on main campus ...   \n",
       "2           3  google  * If you're a software engineer, you're among ...   \n",
       "3           4  google  You can't find a more well-regarded company th...   \n",
       "4           5  google  Google is a world of its own. At every other c...   \n",
       "\n",
       "                                                cons  overall-ratings  \\\n",
       "0                 Bureaucracy is slowing things down                5   \n",
       "1  1) Work/life balance. What balance? All those ...                4   \n",
       "2  * It *is* becoming larger, and with it comes g...                5   \n",
       "3  I live in SF so the commute can take between 1...                5   \n",
       "4  If you don't work in MTV (HQ), you will be giv...                5   \n",
       "\n",
       "   work-balance-stars  culture-values-stars  career-opportunities-stars  \\\n",
       "0                 4.0                     5                         5.0   \n",
       "1                 2.0                     3                         3.0   \n",
       "2                 5.0                     4                         5.0   \n",
       "3                 2.0                     5                         5.0   \n",
       "4                 5.0                     5                         5.0   \n",
       "\n",
       "   comp-benefit-stars  senior-management-stars  company_encoded  \n",
       "0                 4.0                      5.0                3  \n",
       "1                 5.0                      3.0                3  \n",
       "2                 5.0                      4.0                3  \n",
       "3                 4.0                      5.0                3  \n",
       "4                 5.0                      5.0                3  "
      ]
     },
     "execution_count": 34,
     "metadata": {},
     "output_type": "execute_result"
    }
   ],
   "source": [
    "# Label encode the 'Company' column\n",
    "label_encoder = LabelEncoder()\n",
    "df_visualize['company_encoded'] = label_encoder.fit_transform(df_visualize['company'])\n",
    "company_labels = label_encoder.classes_\n",
    "\n",
    "df_visualize.head()"
   ]
  },
  {
   "cell_type": "code",
   "execution_count": 40,
   "id": "dbf19f7b",
   "metadata": {},
   "outputs": [
    {
     "data": {
      "image/png": "[encoded data removed]",
      "text/plain": [
       "<Figure size 720x576 with 1 Axes>"
      ]
     },
     "metadata": {},
     "output_type": "display_data"
    }
   ],
   "source": [
    "# Create a larger plot and change background color\n",
    "fig, ax = plt.subplots(figsize=(10, 8))\n",
    "fig.patch.set_facecolor('whitesmoke')  # Changing background color of the figure\n",
    "\n",
    "# Create the boxplot on the specified Axes object\n",
    "df_visualize.boxplot(column='overall-ratings', by='company_encoded', ax=ax)\n",
    "\n",
    "# Update x-axis labels with original company names\n",
    "ax.set_xticklabels(company_labels)\n",
    "\n",
    "# Set y-axis limits\n",
    "ax.set_ylim(1, 6)  # Set the y-axis range from 1 to 7\n",
    "\n",
    "# Add labels and title\n",
    "ax.set_title('Employee Ratings by Company')\n",
    "ax.set_xlabel('Company')\n",
    "ax.set_ylabel('Employee Ratings')\n",
    "\n",
    "# Show the plot\n",
    "plt.grid(False)\n",
    "plt.show()\n"
   ]
  },
  {
   "cell_type": "code",
   "execution_count": 42,
   "id": "935d352d",
   "metadata": {},
   "outputs": [
    {
     "data": {
      "image/png": "[encoded data removed]",
      "text/plain": [
       "<Figure size 576x432 with 1 Axes>"
      ]
     },
     "metadata": {
      "needs_background": "light"
     },
     "output_type": "display_data"
    }
   ],
   "source": [
    "# Calculate average ratings per company\n",
    "avg_ratings = df_visualize.groupby('company')['overall-ratings'].mean()\n",
    "\n",
    "# Create a bar plot\n",
    "plt.figure(figsize=(8, 6))\n",
    "plt.bar(avg_ratings.index, avg_ratings.values, color='green')\n",
    "\n",
    "# Add labels and title\n",
    "plt.title('Average Employee Ratings by Company')\n",
    "plt.xlabel('Company')\n",
    "plt.ylabel('Average Employee Ratings')\n",
    "\n",
    "# Set y-axis limits from 1 to 5\n",
    "plt.ylim(1, 5)\n",
    "\n",
    "# Show the plot\n",
    "plt.grid(axis='y')\n",
    "plt.xticks(ticks=range(len(avg_ratings)), labels=company_labels)\n",
    "plt.show()"
   ]
  },
  {
   "cell_type": "markdown",
   "id": "1845f0ee",
   "metadata": {},
   "source": [
    "### Text Preprocessing"
   ]
  },
  {
   "cell_type": "code",
   "execution_count": 13,
   "id": "800e91dd",
   "metadata": {},
   "outputs": [],
   "source": [
    "import chardet"
   ]
  },
  {
   "cell_type": "code",
   "execution_count": 14,
   "id": "382c37fb",
   "metadata": {},
   "outputs": [
    {
     "name": "stdout",
     "output_type": "stream",
     "text": [
      "{'encoding': 'MacRoman', 'confidence': 0.724945345064363, 'language': ''}\n"
     ]
    }
   ],
   "source": [
    "with open(r\"D:\\OneDrive - Universiti Sains Malaysia\\USM\\Y3S1\\353 NLP\\assg\\assg1\\data\\cons_only.csv\", 'rb') as file:\n",
    "    print(chardet.detect(file.read()))"
   ]
  },
  {
   "cell_type": "code",
   "execution_count": null,
   "id": "8442db7f",
   "metadata": {},
   "outputs": [],
   "source": [
    "df['cons']= df['cons'].str.lower()\n",
    "df2['pros']= df2['pros'].str.lower()\n",
    "df.head()"
   ]
  },
  {
   "cell_type": "code",
   "execution_count": null,
   "id": "8bf674ca",
   "metadata": {},
   "outputs": [],
   "source": [
    "nltk.download('stopwords')"
   ]
  },
  {
   "cell_type": "code",
   "execution_count": null,
   "id": "944e41ca",
   "metadata": {},
   "outputs": [],
   "source": [
    "from nltk.corpus import stopwords\n",
    "#\",\".join(stopwords.words('english'))\n",
    "stopwordList=stopwords.words('english')\n",
    "# stopwordList.append('#name?')\n",
    "print(stopwordList)\n",
    "stopword= set(stopwordList)\n",
    "\n",
    "def remove_stopw(x):\n",
    "    return \" \".join([word for word in str(x).split() if word not in stopword])\n",
    "\n",
    "df['cons']= df['cons'].apply(lambda x: remove_stopw(x))\n",
    "df2['pros']= df2['pros'].apply(lambda x: remove_stopw(x))"
   ]
  },
  {
   "cell_type": "code",
   "execution_count": null,
   "id": "21ad6f8b",
   "metadata": {},
   "outputs": [],
   "source": [
    "df.head()"
   ]
  },
  {
   "cell_type": "code",
   "execution_count": null,
   "id": "64476991",
   "metadata": {},
   "outputs": [],
   "source": [
    "df2.head()"
   ]
  },
  {
   "cell_type": "code",
   "execution_count": null,
   "id": "94b4e107",
   "metadata": {},
   "outputs": [],
   "source": [
    "df.to_csv(r'D:\\OneDrive - Universiti Sains Malaysia\\USM\\Y3S1\\353 NLP\\assg\\assg1\\data\\preproc\\cons.csv', sep='\\t',index=False)\n",
    "df2.to_csv(r'D:\\OneDrive - Universiti Sains Malaysia\\USM\\Y3S1\\353 NLP\\assg\\assg1\\data\\preproc\\pros.csv', sep='\\t',index=False)"
   ]
  }
 ],
 "metadata": {
  "kernelspec": {
   "display_name": "Python 3 (ipykernel)",
   "language": "python",
   "name": "python3"
  },
  "language_info": {
   "codemirror_mode": {
    "name": "ipython",
    "version": 3
   },
   "file_extension": ".py",
   "mimetype": "text/x-python",
   "name": "python",
   "nbconvert_exporter": "python",
   "pygments_lexer": "ipython3",
   "version": "3.10.4"
  }
 },
 "nbformat": 4,
 "nbformat_minor": 5
}
