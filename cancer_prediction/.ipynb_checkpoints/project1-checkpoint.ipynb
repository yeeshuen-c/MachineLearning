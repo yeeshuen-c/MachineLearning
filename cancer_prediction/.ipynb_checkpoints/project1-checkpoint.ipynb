{
 "cells": [
  {
   "cell_type": "markdown",
   "metadata": {},
   "source": [
    "#### Project description\n",
    "Our aim of this project is to creat machine learning models that can be used to correctly identify if a patient has cervical cancer or not based on the patient's information. The biopsy column, which reveals whether or not cervical cancer exists, is the target that has to be predicted. We intend to develop a prediction model that can aid in the early identification and diagnosis of cervical cancer by training machine learning models using a dataset that contains various patient features and biopsy information. The model will pick up on trends and connections in the data, allowing it to make precise predictions on patient samples it has never seen before. By offering an automated and effective method of cervical cancer prediction, this method of machine learning has the potential to help improve healthcare outcomes."
   ]
  },
  {
   "cell_type": "markdown",
   "metadata": {
    "id": "s-t3qmGdkl1D"
   },
   "source": [
    "#### Import libraries"
   ]
  },
  {
   "cell_type": "code",
   "execution_count": 1,
   "metadata": {
    "id": "l7Wegg4Ikl1I"
   },
   "outputs": [],
   "source": [
    "%config Completer.use_jedi=False\n",
    "import numpy as np\n",
    "import pandas as pd\n",
    "import matplotlib.pyplot as plt\n",
    "pd.set_option(\"display.max_columns\", None)\n",
    "import seaborn as sns\n",
    "from sklearn.feature_selection import chi2, SelectKBest\n",
    "from sklearn.metrics import accuracy_score, confusion_matrix, ConfusionMatrixDisplay, recall_score, precision_score, f1_score, classification_report\n",
    "from sklearn.model_selection import GridSearchCV, train_test_split\n",
    "from sklearn.preprocessing import StandardScaler\n",
    "from sklearn.linear_model import SGDClassifier\n",
    "from sklearn.neighbors import KNeighborsClassifier\n",
    "from sklearn.tree import DecisionTreeClassifier, plot_tree"
   ]
  },
  {
   "cell_type": "markdown",
   "metadata": {
    "id": "vpFXJ-jDkl1M"
   },
   "source": [
    "#### Load the dataset"
   ]
  },
  {
   "cell_type": "code",
   "execution_count": 56,
   "metadata": {
    "id": "w6rpxbjZkl1O"
   },
   "outputs": [],
   "source": [
    "# Read the CSV file \"risk_factors.csv\" into a pandas DataFrame\n",
    "# Set missing values denoted as \"?\" to NaN (Not a Number) in the DataFrame\n",
    "df = pd.read_csv(\"risk_factors.csv\", na_values=\"?\")"
   ]
  },
  {
   "cell_type": "code",
   "execution_count": 57,
   "metadata": {},
   "outputs": [
    {
     "data": {
      "text/html": [
       "<div>\n",
       "<style scoped>\n",
       "    .dataframe tbody tr th:only-of-type {\n",
       "        vertical-align: middle;\n",
       "    }\n",
       "\n",
       "    .dataframe tbody tr th {\n",
       "        vertical-align: top;\n",
       "    }\n",
       "\n",
       "    .dataframe thead th {\n",
       "        text-align: right;\n",
       "    }\n",
       "</style>\n",
       "<table border=\"1\" class=\"dataframe\">\n",
       "  <thead>\n",
       "    <tr style=\"text-align: right;\">\n",
       "      <th></th>\n",
       "      <th>Age</th>\n",
       "      <th>Number of sexual partners</th>\n",
       "      <th>First sexual intercourse</th>\n",
       "      <th>Num of pregnancies</th>\n",
       "      <th>Smokes</th>\n",
       "      <th>Smokes (years)</th>\n",
       "      <th>Smokes (packs/year)</th>\n",
       "      <th>Hormonal Contraceptives</th>\n",
       "      <th>Hormonal Contraceptives (years)</th>\n",
       "      <th>IUD</th>\n",
       "      <th>IUD (years)</th>\n",
       "      <th>STDs</th>\n",
       "      <th>STDs (number)</th>\n",
       "      <th>STDs:condylomatosis</th>\n",
       "      <th>STDs:cervical condylomatosis</th>\n",
       "      <th>STDs:vaginal condylomatosis</th>\n",
       "      <th>STDs:vulvo-perineal condylomatosis</th>\n",
       "      <th>STDs:syphilis</th>\n",
       "      <th>STDs:pelvic inflammatory disease</th>\n",
       "      <th>STDs:genital herpes</th>\n",
       "      <th>STDs:molluscum contagiosum</th>\n",
       "      <th>STDs:AIDS</th>\n",
       "      <th>STDs:HIV</th>\n",
       "      <th>STDs:Hepatitis B</th>\n",
       "      <th>STDs:HPV</th>\n",
       "      <th>STDs: Number of diagnosis</th>\n",
       "      <th>STDs: Time since first diagnosis</th>\n",
       "      <th>STDs: Time since last diagnosis</th>\n",
       "      <th>Dx:Cancer</th>\n",
       "      <th>Dx:CIN</th>\n",
       "      <th>Dx:HPV</th>\n",
       "      <th>Dx</th>\n",
       "      <th>Hinselmann</th>\n",
       "      <th>Schiller</th>\n",
       "      <th>Citology</th>\n",
       "      <th>Biopsy</th>\n",
       "    </tr>\n",
       "  </thead>\n",
       "  <tbody>\n",
       "    <tr>\n",
       "      <th>0</th>\n",
       "      <td>18</td>\n",
       "      <td>4.0</td>\n",
       "      <td>15.0</td>\n",
       "      <td>1.0</td>\n",
       "      <td>0.0</td>\n",
       "      <td>0.0</td>\n",
       "      <td>0.0</td>\n",
       "      <td>0.0</td>\n",
       "      <td>0.0</td>\n",
       "      <td>0.0</td>\n",
       "      <td>0.0</td>\n",
       "      <td>0.0</td>\n",
       "      <td>0.0</td>\n",
       "      <td>0.0</td>\n",
       "      <td>0.0</td>\n",
       "      <td>0.0</td>\n",
       "      <td>0.0</td>\n",
       "      <td>0.0</td>\n",
       "      <td>0.0</td>\n",
       "      <td>0.0</td>\n",
       "      <td>0.0</td>\n",
       "      <td>0.0</td>\n",
       "      <td>0.0</td>\n",
       "      <td>0.0</td>\n",
       "      <td>0.0</td>\n",
       "      <td>0</td>\n",
       "      <td>NaN</td>\n",
       "      <td>NaN</td>\n",
       "      <td>0</td>\n",
       "      <td>0</td>\n",
       "      <td>0</td>\n",
       "      <td>0</td>\n",
       "      <td>0</td>\n",
       "      <td>0</td>\n",
       "      <td>0</td>\n",
       "      <td>0</td>\n",
       "    </tr>\n",
       "    <tr>\n",
       "      <th>1</th>\n",
       "      <td>15</td>\n",
       "      <td>1.0</td>\n",
       "      <td>14.0</td>\n",
       "      <td>1.0</td>\n",
       "      <td>0.0</td>\n",
       "      <td>0.0</td>\n",
       "      <td>0.0</td>\n",
       "      <td>0.0</td>\n",
       "      <td>0.0</td>\n",
       "      <td>0.0</td>\n",
       "      <td>0.0</td>\n",
       "      <td>0.0</td>\n",
       "      <td>0.0</td>\n",
       "      <td>0.0</td>\n",
       "      <td>0.0</td>\n",
       "      <td>0.0</td>\n",
       "      <td>0.0</td>\n",
       "      <td>0.0</td>\n",
       "      <td>0.0</td>\n",
       "      <td>0.0</td>\n",
       "      <td>0.0</td>\n",
       "      <td>0.0</td>\n",
       "      <td>0.0</td>\n",
       "      <td>0.0</td>\n",
       "      <td>0.0</td>\n",
       "      <td>0</td>\n",
       "      <td>NaN</td>\n",
       "      <td>NaN</td>\n",
       "      <td>0</td>\n",
       "      <td>0</td>\n",
       "      <td>0</td>\n",
       "      <td>0</td>\n",
       "      <td>0</td>\n",
       "      <td>0</td>\n",
       "      <td>0</td>\n",
       "      <td>0</td>\n",
       "    </tr>\n",
       "    <tr>\n",
       "      <th>2</th>\n",
       "      <td>34</td>\n",
       "      <td>1.0</td>\n",
       "      <td>NaN</td>\n",
       "      <td>1.0</td>\n",
       "      <td>0.0</td>\n",
       "      <td>0.0</td>\n",
       "      <td>0.0</td>\n",
       "      <td>0.0</td>\n",
       "      <td>0.0</td>\n",
       "      <td>0.0</td>\n",
       "      <td>0.0</td>\n",
       "      <td>0.0</td>\n",
       "      <td>0.0</td>\n",
       "      <td>0.0</td>\n",
       "      <td>0.0</td>\n",
       "      <td>0.0</td>\n",
       "      <td>0.0</td>\n",
       "      <td>0.0</td>\n",
       "      <td>0.0</td>\n",
       "      <td>0.0</td>\n",
       "      <td>0.0</td>\n",
       "      <td>0.0</td>\n",
       "      <td>0.0</td>\n",
       "      <td>0.0</td>\n",
       "      <td>0.0</td>\n",
       "      <td>0</td>\n",
       "      <td>NaN</td>\n",
       "      <td>NaN</td>\n",
       "      <td>0</td>\n",
       "      <td>0</td>\n",
       "      <td>0</td>\n",
       "      <td>0</td>\n",
       "      <td>0</td>\n",
       "      <td>0</td>\n",
       "      <td>0</td>\n",
       "      <td>0</td>\n",
       "    </tr>\n",
       "    <tr>\n",
       "      <th>3</th>\n",
       "      <td>52</td>\n",
       "      <td>5.0</td>\n",
       "      <td>16.0</td>\n",
       "      <td>4.0</td>\n",
       "      <td>1.0</td>\n",
       "      <td>37.0</td>\n",
       "      <td>37.0</td>\n",
       "      <td>1.0</td>\n",
       "      <td>3.0</td>\n",
       "      <td>0.0</td>\n",
       "      <td>0.0</td>\n",
       "      <td>0.0</td>\n",
       "      <td>0.0</td>\n",
       "      <td>0.0</td>\n",
       "      <td>0.0</td>\n",
       "      <td>0.0</td>\n",
       "      <td>0.0</td>\n",
       "      <td>0.0</td>\n",
       "      <td>0.0</td>\n",
       "      <td>0.0</td>\n",
       "      <td>0.0</td>\n",
       "      <td>0.0</td>\n",
       "      <td>0.0</td>\n",
       "      <td>0.0</td>\n",
       "      <td>0.0</td>\n",
       "      <td>0</td>\n",
       "      <td>NaN</td>\n",
       "      <td>NaN</td>\n",
       "      <td>1</td>\n",
       "      <td>0</td>\n",
       "      <td>1</td>\n",
       "      <td>0</td>\n",
       "      <td>0</td>\n",
       "      <td>0</td>\n",
       "      <td>0</td>\n",
       "      <td>0</td>\n",
       "    </tr>\n",
       "    <tr>\n",
       "      <th>4</th>\n",
       "      <td>46</td>\n",
       "      <td>3.0</td>\n",
       "      <td>21.0</td>\n",
       "      <td>4.0</td>\n",
       "      <td>0.0</td>\n",
       "      <td>0.0</td>\n",
       "      <td>0.0</td>\n",
       "      <td>1.0</td>\n",
       "      <td>15.0</td>\n",
       "      <td>0.0</td>\n",
       "      <td>0.0</td>\n",
       "      <td>0.0</td>\n",
       "      <td>0.0</td>\n",
       "      <td>0.0</td>\n",
       "      <td>0.0</td>\n",
       "      <td>0.0</td>\n",
       "      <td>0.0</td>\n",
       "      <td>0.0</td>\n",
       "      <td>0.0</td>\n",
       "      <td>0.0</td>\n",
       "      <td>0.0</td>\n",
       "      <td>0.0</td>\n",
       "      <td>0.0</td>\n",
       "      <td>0.0</td>\n",
       "      <td>0.0</td>\n",
       "      <td>0</td>\n",
       "      <td>NaN</td>\n",
       "      <td>NaN</td>\n",
       "      <td>0</td>\n",
       "      <td>0</td>\n",
       "      <td>0</td>\n",
       "      <td>0</td>\n",
       "      <td>0</td>\n",
       "      <td>0</td>\n",
       "      <td>0</td>\n",
       "      <td>0</td>\n",
       "    </tr>\n",
       "  </tbody>\n",
       "</table>\n",
       "</div>"
      ],
      "text/plain": [
       "   Age  Number of sexual partners  First sexual intercourse  \\\n",
       "0   18                        4.0                      15.0   \n",
       "1   15                        1.0                      14.0   \n",
       "2   34                        1.0                       NaN   \n",
       "3   52                        5.0                      16.0   \n",
       "4   46                        3.0                      21.0   \n",
       "\n",
       "   Num of pregnancies  Smokes  Smokes (years)  Smokes (packs/year)  \\\n",
       "0                 1.0     0.0             0.0                  0.0   \n",
       "1                 1.0     0.0             0.0                  0.0   \n",
       "2                 1.0     0.0             0.0                  0.0   \n",
       "3                 4.0     1.0            37.0                 37.0   \n",
       "4                 4.0     0.0             0.0                  0.0   \n",
       "\n",
       "   Hormonal Contraceptives  Hormonal Contraceptives (years)  IUD  IUD (years)  \\\n",
       "0                      0.0                              0.0  0.0          0.0   \n",
       "1                      0.0                              0.0  0.0          0.0   \n",
       "2                      0.0                              0.0  0.0          0.0   \n",
       "3                      1.0                              3.0  0.0          0.0   \n",
       "4                      1.0                             15.0  0.0          0.0   \n",
       "\n",
       "   STDs  STDs (number)  STDs:condylomatosis  STDs:cervical condylomatosis  \\\n",
       "0   0.0            0.0                  0.0                           0.0   \n",
       "1   0.0            0.0                  0.0                           0.0   \n",
       "2   0.0            0.0                  0.0                           0.0   \n",
       "3   0.0            0.0                  0.0                           0.0   \n",
       "4   0.0            0.0                  0.0                           0.0   \n",
       "\n",
       "   STDs:vaginal condylomatosis  STDs:vulvo-perineal condylomatosis  \\\n",
       "0                          0.0                                 0.0   \n",
       "1                          0.0                                 0.0   \n",
       "2                          0.0                                 0.0   \n",
       "3                          0.0                                 0.0   \n",
       "4                          0.0                                 0.0   \n",
       "\n",
       "   STDs:syphilis  STDs:pelvic inflammatory disease  STDs:genital herpes  \\\n",
       "0            0.0                               0.0                  0.0   \n",
       "1            0.0                               0.0                  0.0   \n",
       "2            0.0                               0.0                  0.0   \n",
       "3            0.0                               0.0                  0.0   \n",
       "4            0.0                               0.0                  0.0   \n",
       "\n",
       "   STDs:molluscum contagiosum  STDs:AIDS  STDs:HIV  STDs:Hepatitis B  \\\n",
       "0                         0.0        0.0       0.0               0.0   \n",
       "1                         0.0        0.0       0.0               0.0   \n",
       "2                         0.0        0.0       0.0               0.0   \n",
       "3                         0.0        0.0       0.0               0.0   \n",
       "4                         0.0        0.0       0.0               0.0   \n",
       "\n",
       "   STDs:HPV  STDs: Number of diagnosis  STDs: Time since first diagnosis  \\\n",
       "0       0.0                          0                               NaN   \n",
       "1       0.0                          0                               NaN   \n",
       "2       0.0                          0                               NaN   \n",
       "3       0.0                          0                               NaN   \n",
       "4       0.0                          0                               NaN   \n",
       "\n",
       "   STDs: Time since last diagnosis  Dx:Cancer  Dx:CIN  Dx:HPV  Dx  Hinselmann  \\\n",
       "0                              NaN          0       0       0   0           0   \n",
       "1                              NaN          0       0       0   0           0   \n",
       "2                              NaN          0       0       0   0           0   \n",
       "3                              NaN          1       0       1   0           0   \n",
       "4                              NaN          0       0       0   0           0   \n",
       "\n",
       "   Schiller  Citology  Biopsy  \n",
       "0         0         0       0  \n",
       "1         0         0       0  \n",
       "2         0         0       0  \n",
       "3         0         0       0  \n",
       "4         0         0       0  "
      ]
     },
     "execution_count": 57,
     "metadata": {},
     "output_type": "execute_result"
    }
   ],
   "source": [
    "df.head() #print first 5 rows of dataset"
   ]
  },
  {
   "cell_type": "markdown",
   "metadata": {
    "id": "pZheinGPR2BS"
   },
   "source": [
    "#### Understanding the data\n",
    "\n",
    "The given dataset has 858 entries and 36 columns, 34 of which are input features and the other 4 are target variables. For this classification problem, we chose \"Biopsy\" as our target variable.\n",
    "\n",
    "By observing the summary of the dataset, there were many null values, most notably feature 26 and 27. These two features were dropped from the dataset as there were not enough samples for imputation and this would affect the performance of our models during training. \n",
    "For missing values in the other features, we imputed them by taking the median value of the given feature.\n",
    "\n",
    "A histogram of the target class \"Biopsy\" was also plotted to observe the distribution of target classes. We observed that the dataset was unbalanced, heavily favoring the '0' class."
   ]
  },
  {
   "cell_type": "code",
   "execution_count": 58,
   "metadata": {
    "colab": {
     "base_uri": "https://localhost:8080/"
    },
    "id": "MvpsPjL7kl1Q",
    "outputId": "ed28984b-703f-4dfe-cca9-1f039c2582e3"
   },
   "outputs": [
    {
     "name": "stdout",
     "output_type": "stream",
     "text": [
      "<class 'pandas.core.frame.DataFrame'>\n",
      "RangeIndex: 858 entries, 0 to 857\n",
      "Data columns (total 36 columns):\n",
      " #   Column                              Non-Null Count  Dtype  \n",
      "---  ------                              --------------  -----  \n",
      " 0   Age                                 858 non-null    int64  \n",
      " 1   Number of sexual partners           832 non-null    float64\n",
      " 2   First sexual intercourse            851 non-null    float64\n",
      " 3   Num of pregnancies                  802 non-null    float64\n",
      " 4   Smokes                              845 non-null    float64\n",
      " 5   Smokes (years)                      845 non-null    float64\n",
      " 6   Smokes (packs/year)                 845 non-null    float64\n",
      " 7   Hormonal Contraceptives             750 non-null    float64\n",
      " 8   Hormonal Contraceptives (years)     750 non-null    float64\n",
      " 9   IUD                                 741 non-null    float64\n",
      " 10  IUD (years)                         741 non-null    float64\n",
      " 11  STDs                                753 non-null    float64\n",
      " 12  STDs (number)                       753 non-null    float64\n",
      " 13  STDs:condylomatosis                 753 non-null    float64\n",
      " 14  STDs:cervical condylomatosis        753 non-null    float64\n",
      " 15  STDs:vaginal condylomatosis         753 non-null    float64\n",
      " 16  STDs:vulvo-perineal condylomatosis  753 non-null    float64\n",
      " 17  STDs:syphilis                       753 non-null    float64\n",
      " 18  STDs:pelvic inflammatory disease    753 non-null    float64\n",
      " 19  STDs:genital herpes                 753 non-null    float64\n",
      " 20  STDs:molluscum contagiosum          753 non-null    float64\n",
      " 21  STDs:AIDS                           753 non-null    float64\n",
      " 22  STDs:HIV                            753 non-null    float64\n",
      " 23  STDs:Hepatitis B                    753 non-null    float64\n",
      " 24  STDs:HPV                            753 non-null    float64\n",
      " 25  STDs: Number of diagnosis           858 non-null    int64  \n",
      " 26  STDs: Time since first diagnosis    71 non-null     float64\n",
      " 27  STDs: Time since last diagnosis     71 non-null     float64\n",
      " 28  Dx:Cancer                           858 non-null    int64  \n",
      " 29  Dx:CIN                              858 non-null    int64  \n",
      " 30  Dx:HPV                              858 non-null    int64  \n",
      " 31  Dx                                  858 non-null    int64  \n",
      " 32  Hinselmann                          858 non-null    int64  \n",
      " 33  Schiller                            858 non-null    int64  \n",
      " 34  Citology                            858 non-null    int64  \n",
      " 35  Biopsy                              858 non-null    int64  \n",
      "dtypes: float64(26), int64(10)\n",
      "memory usage: 241.4 KB\n"
     ]
    }
   ],
   "source": [
    "df.info()  # Display summary information about the DataFrame"
   ]
  },
  {
   "cell_type": "code",
   "execution_count": 5,
   "metadata": {
    "colab": {
     "base_uri": "https://localhost:8080/"
    },
    "id": "3-eq_XGpkl1V",
    "outputId": "5e502cb1-e025-46ee-aa29-48766e0aeb98"
   },
   "outputs": [
    {
     "data": {
      "text/plain": [
       "Age                                   [18, 15, 34, 52, 46, 42, 51, 26, 45, 44, 27, 4...\n",
       "Number of sexual partners             [4.0, 1.0, 5.0, 3.0, 2.0, 6.0, nan, 7.0, 15.0,...\n",
       "First sexual intercourse              [15.0, 14.0, nan, 16.0, 21.0, 23.0, 17.0, 26.0...\n",
       "Num of pregnancies                    [1.0, 4.0, 2.0, 6.0, 3.0, 5.0, nan, 8.0, 7.0, ...\n",
       "Smokes                                                                  [0.0, 1.0, nan]\n",
       "Smokes (years)                        [0.0, 37.0, 34.0, 1.266972909, 3.0, 12.0, nan,...\n",
       "Smokes (packs/year)                   [0.0, 37.0, 3.4, 2.8, 0.04, 0.5132021277, 2.4,...\n",
       "Hormonal Contraceptives                                                 [0.0, 1.0, nan]\n",
       "Hormonal Contraceptives (years)       [0.0, 3.0, 15.0, 2.0, 8.0, 10.0, 5.0, 0.25, 7....\n",
       "IUD                                                                     [0.0, 1.0, nan]\n",
       "IUD (years)                           [0.0, 7.0, nan, 5.0, 8.0, 6.0, 1.0, 0.58, 2.0,...\n",
       "STDs                                                                    [0.0, 1.0, nan]\n",
       "STDs (number)                                            [0.0, 2.0, 1.0, nan, 3.0, 4.0]\n",
       "STDs:condylomatosis                                                     [0.0, 1.0, nan]\n",
       "STDs:cervical condylomatosis                                                 [0.0, nan]\n",
       "STDs:vaginal condylomatosis                                             [0.0, nan, 1.0]\n",
       "STDs:vulvo-perineal condylomatosis                                      [0.0, 1.0, nan]\n",
       "STDs:syphilis                                                           [0.0, 1.0, nan]\n",
       "STDs:pelvic inflammatory disease                                        [0.0, nan, 1.0]\n",
       "STDs:genital herpes                                                     [0.0, nan, 1.0]\n",
       "STDs:molluscum contagiosum                                              [0.0, nan, 1.0]\n",
       "STDs:AIDS                                                                    [0.0, nan]\n",
       "STDs:HIV                                                                [0.0, 1.0, nan]\n",
       "STDs:Hepatitis B                                                        [0.0, nan, 1.0]\n",
       "STDs:HPV                                                                [0.0, nan, 1.0]\n",
       "STDs: Number of diagnosis                                                  [0, 1, 3, 2]\n",
       "STDs: Time since first diagnosis      [nan, 21.0, 2.0, 15.0, 19.0, 3.0, 12.0, 1.0, 1...\n",
       "STDs: Time since last diagnosis       [nan, 21.0, 2.0, 15.0, 19.0, 3.0, 12.0, 1.0, 1...\n",
       "Dx:Cancer                                                                        [0, 1]\n",
       "Dx:CIN                                                                           [0, 1]\n",
       "Dx:HPV                                                                           [0, 1]\n",
       "Dx                                                                               [0, 1]\n",
       "Hinselmann                                                                       [0, 1]\n",
       "Schiller                                                                         [0, 1]\n",
       "Citology                                                                         [0, 1]\n",
       "Biopsy                                                                           [0, 1]\n",
       "dtype: object"
      ]
     },
     "execution_count": 5,
     "metadata": {},
     "output_type": "execute_result"
    }
   ],
   "source": [
    "# Get the unique values in each column \n",
    "pd.Series({column : df[column].unique() for column in df})"
   ]
  },
  {
   "cell_type": "code",
   "execution_count": 6,
   "metadata": {
    "colab": {
     "base_uri": "https://localhost:8080/"
    },
    "id": "beUxvx8bkl1b",
    "outputId": "28a0bb5f-1fdc-4721-aa28-a198f0e1e143"
   },
   "outputs": [
    {
     "data": {
      "text/plain": [
       "(858, 34)"
      ]
     },
     "execution_count": 6,
     "metadata": {},
     "output_type": "execute_result"
    }
   ],
   "source": [
    "# Drop feature 26 and 27 because they have too many nulls\n",
    "df = df.drop(df.columns[26:28], axis=1)\n",
    "df.shape"
   ]
  },
  {
   "cell_type": "code",
   "execution_count": 7,
   "metadata": {
    "id": "EIqOhLFwkl1g"
   },
   "outputs": [],
   "source": [
    "# Impute null values in features with its median\n",
    "df = df.fillna(df.median())"
   ]
  },
  {
   "cell_type": "code",
   "execution_count": 8,
   "metadata": {
    "id": "0FfGpU3Wkl1i"
   },
   "outputs": [],
   "source": [
    "# Take Biopsy as the target variable\n",
    "X = df.iloc[:,:-4].values\n",
    "y = df.iloc[:,-1].values"
   ]
  },
  {
   "cell_type": "markdown",
   "metadata": {},
   "source": [
    "##### graph for showing imbalance distribution of classes in Biopsy (target)"
   ]
  },
  {
   "cell_type": "code",
   "execution_count": 59,
   "metadata": {
    "colab": {
     "base_uri": "https://localhost:8080/",
     "height": 489
    },
    "id": "71vCyeQ_bA6p",
    "outputId": "493df6f2-bf94-4e0d-f184-7386ea575f86"
   },
   "outputs": [
    {
     "data": {
      "image/png": "[encoded data removed]",
      "text/plain": [
       "<Figure size 720x360 with 2 Axes>"
      ]
     },
     "metadata": {
      "needs_background": "light"
     },
     "output_type": "display_data"
    }
   ],
   "source": [
    "fig, (ax1, ax2) = plt.subplots(1, 2,figsize=(10, 5)) #2 subplots\n",
    "\n",
    "# bar chart showing distribution\n",
    "ax1 = sns.countplot(x=df[\"Biopsy\"],ax=ax1)\n",
    "ax1.bar_label(ax1.containers[0])\n",
    "ax1.set_title(\"Distribution of classes in Biopsy\")\n",
    "\n",
    "# pie chart showing percentage\n",
    "names = list(df[\"Biopsy\"].unique())\n",
    "sizes = [df[\"Biopsy\"].value_counts()[unique_class]*100/len(df[\"Biopsy\"]) for unique_class in names]\n",
    "explode = [0] * len(names)\n",
    "ax2.pie(sizes, explode=explode, labels=names, autopct=\"%1.1f%%\", shadow=True)\n",
    "ax2.set_title(\"Percentage of classes in dataset\")\n",
    "ax2.axis(\"equal\")\n",
    "\n",
    "plt.subplots_adjust(wspace=0.5)\n",
    "plt.show()"
   ]
  },
  {
   "cell_type": "markdown",
   "metadata": {
    "id": "v08PXmtUsYfy"
   },
   "source": [
    "As shown in the figure above, there is a class imbalance in the \"Biopsy\" target, heavily skewed towards the '0' class. As a result, only 6.41% of the patients reported positive for \"Biopsy\" and this bias would affect the decisions made when constructing the models."
   ]
  },
  {
   "cell_type": "markdown",
   "metadata": {
    "id": "HcS4KPAEkl1k"
   },
   "source": [
    "#### Split the dataset\n",
    "Split the dataset into training, validation and test sets."
   ]
  },
  {
   "cell_type": "code",
   "execution_count": 10,
   "metadata": {
    "id": "mOZWUpq6kl1m"
   },
   "outputs": [],
   "source": [
    "# Stratify the split to ensure that each class is represented\n",
    "# Do an 8:2 split for training and test set\n",
    "X_train, X_test, y_train, y_test = train_test_split(X, y, stratify=y,\n",
    "                                                    test_size=0.2, random_state=42)\n",
    "\n",
    "# Use training set to split 8:2 for validation set\n",
    "X_train, X_valid, y_train, y_valid = train_test_split(X_train, y_train, stratify=y_train,\n",
    "                                                      test_size=0.2, random_state=42)"
   ]
  },
  {
   "cell_type": "markdown",
   "metadata": {
    "id": "_BJfxB08kl1p"
   },
   "source": [
    "#### Data preprocessing\n",
    "Perform data preprocessing such as normalization, standardization, label encoding etc.\n",
    "______________________________________________________________________________________\n",
    "Description: \n",
    "\n",
    "For data preprocessing, we performed feature scaling to ensure that the features were all on the same scale as this could affect the performance of the model during training such as slower converge during gradient descent. The feature scaling method chosen was standardisation to scale the features to have mean, $\\mu=0$ and standard deviation, $\\sigma=1$. The `StandardScaler` class was used to perform for the standardisation.\n",
    "\n",
    "The scaler was first fitted with the input features of the training set to calculate and standard deviation for later scaling. Then, the same scaler was used to transform the input features of the training, validaton, and testing sets to ensure consistent scaling and reliable comparisons.\n",
    "\n",
    "Label encoding was not required as the features for our dataset were numerical and there were no categorical data."
   ]
  },
  {
   "cell_type": "code",
   "execution_count": 36,
   "metadata": {
    "id": "prECFULFkl1q"
   },
   "outputs": [],
   "source": [
    "# Perform standardisation\n",
    "scaler = StandardScaler()\n",
    "scaler.fit(X_train)\n",
    "\n",
    "# Transform the input features with the fitted scaler\n",
    "X_train = scaler.transform(X_train)\n",
    "X_test = scaler.transform(X_test)\n",
    "X_valid = scaler.transform(X_valid)"
   ]
  },
  {
   "cell_type": "markdown",
   "metadata": {
    "id": "u7q1fiJNkl1r"
   },
   "source": [
    "#### Feature Selection\n",
    "Perform feature selection to select the relevant features.\n",
    "______________________________________________________________________________________\n",
    "Description:\n",
    "\n",
    "Chi-squared feature selection was performed to select the relevant features. The `chi2` and `SelectKBest` classes from `sklearn.feature_selection` module were used. For our project, we set $k=10$ to only extract the top 10 features based on chi-squared scores. The `SelectKBest` object was fitted with the $X$ and $y$ values of the dataset and a list of features and their scores were shown.\n",
    "\n",
    "We validated the selected features by comparing with previous studies on the subject from [Wu and Zhu](https://doi.org/10.1109/ACCESS.2017.2763984) and [Ijaz et al.](https://doi.org/10.3390/s20102809). \n",
    "\n",
    "These findings suggested that the highest risk factors for cervical cancers were Hormonal Contraceptives(years), Smoke(years), STDs: Number of diagnosis, Dx: Cancer, DX: HPV, and Dx. Several of these factors were chosen by our chi-squared feature selection, thus we proceeded with the features selected.\n",
    "\n",
    "Then, the features for training, validation and testing set were transformed using the same feature selector to only include the top 10 scoring features in our model evaluation."
   ]
  },
  {
   "cell_type": "code",
   "execution_count": 39,
   "metadata": {
    "colab": {
     "base_uri": "https://localhost:8080/"
    },
    "id": "iXn_m65Wkl1s",
    "outputId": "f5d97a1f-8dbe-4a2c-ef08-9ca30c611d54"
   },
   "outputs": [
    {
     "name": "stdout",
     "output_type": "stream",
     "text": [
      "chi2_score for following columns:\n",
      "\n",
      "Hormonal Contraceptives (years) :  47.5038\n",
      "Smokes (years) :  44.0655\n",
      "Dx:HPV :  21.7479\n",
      "Dx:Cancer :  21.7479\n",
      "Dx :  20.7164\n",
      "STDs (number) :  16.5007\n",
      "STDs:genital herpes :  14.6000\n",
      "STDs:HIV :  13.6986\n",
      "Dx:CIN :  10.8740\n",
      "STDs :  10.1502\n"
     ]
    }
   ],
   "source": [
    "# Perform Chi-squared feature selection\n",
    "feature_selector = SelectKBest(chi2, k=10)\n",
    "feature_selector.fit(X, y)\n",
    "\n",
    "# Get the Chi-squared scores of selected features\n",
    "chi2_scores = feature_selector.scores_[feature_selector.get_support()]\n",
    "\n",
    "# Mask feature names according to selected features.\n",
    "selected_features = feature_selector.get_feature_names_out(df.columns[:-4])\n",
    "\n",
    "# Sort the feature in descending order\n",
    "sorted_indices = np.argsort(chi2_scores)[::-1]\n",
    "sorted_features = [selected_features[i] for i in sorted_indices]\n",
    "sorted_scores = chi2_scores[sorted_indices]\n",
    "\n",
    "# Print the list of features and scores\n",
    "print(\"chi2_score for following columns:\\n\")\n",
    "for feature, score in zip(sorted_features, sorted_scores):\n",
    "    print(f\"{feature} :  {score:.4f}\")"
   ]
  },
  {
   "cell_type": "code",
   "execution_count": 13,
   "metadata": {
    "id": "Q0pZ6nFMkl1u"
   },
   "outputs": [],
   "source": [
    "# Transform the data to have only selected features\n",
    "X_train = feature_selector.transform(X_train)\n",
    "X_test = feature_selector.transform(X_test)\n",
    "X_valid = feature_selector.transform(X_valid)"
   ]
  },
  {
   "cell_type": "markdown",
   "metadata": {
    "id": "Xn2EK7WBkl1v"
   },
   "source": [
    "#### Data modeling\n",
    "Build the machine learning models. You must build atleast two (2) predictive models. One of the predictive models must be either Decision Tree or Support Vector Machine.\n",
    "______________________________________________________________________________________\n",
    "Description:\n",
    "\n",
    "Building the models is an iterative process. First, the models were trained using the training set. Then, the performance of the trained model was evaluated using the validation set to fine-tune the parameters. Finally, the model with the best parameters was used to evaluate the final performance of the model, by comparing with the testing set.\n",
    "\n",
    "\n",
    "Due to the imbalance of classes in the data, several considerations were made when evaluating the performance of the models during training.For our problem, accuracy was not a suitable evaluation as it can produce misleading results by naively predicting all classes as '0'. Therefore, we chose F1-score as it provides a better assessment of the model's performance in imbalanced datasets by using the harmonic mean between precision and recall.\n",
    "\n",
    "\n",
    "The first model trained is k-nearest neighbors(KNN). The main parameter affecting the model performance here is the $k$ value, number of nearest neighbors. To find the optimal value for $k$, we plotted a graph of F1-score against different values of $k$. The result of the plot showed a baseline model to work with. Then, we tried finding the optimal parameters for the classifier by using `GridSearchCV`. A dictionary of parameters to be experimented with was defined, namely the number of nearest neighbors, $k$, type of weight function and the type of metric used for calculating the distance between data points. `GridSearchCV` was fitted with the training data to find optimal parameters, and used to test on the validation set for evaluation. The parameters of the KNN model were also experimented by trial and error to see if a better set of parameters could be found.\n",
    "\n",
    "The second model trained is decision tree(DT). There are many parameters that can be tuned to affect the splitting of the decision tree. For our project we only experimented with the `min_samples_split` and `max_depth` for simplicity as we found that tuning two or more parameters changed the shape of the decision tree drastically and difficult to interprete. Furthermore, `class_weights` was set to `balanced` to give more importance to minority class in the imbalanced dataset. Initially, the optimal parameters were computed using `GridSearch` but did not perform as well so we opted to tune the parameters by trial and error. The trained DT model's performance was measured by evaluating on the validation set. The DT was also visualised during training by using `plot_tree`.\n",
    "\n",
    "\n",
    "The third model trained is logistic regression with gradient descent. The parameters used were the loss function, learning rate, and class weights. The loss function chosen was log loss because the problem is for binary classification. `eta0` is the initial learning rate, and by setting `learning_rate` to `constant`, we ensure that the learning rate is constant during each iteration of gradient descent. Again, `class_weight` was set to `balanced` to emphasise the minority class in the dataset. The performance of the model during training was evaluated using the validation set, and was fine tuned by trying different `eta0` and `max_iter` values through trial and error.\n"
   ]
  },
  {
   "cell_type": "markdown",
   "metadata": {},
   "source": [
    "##### k-nearest neighbors(KNN)"
   ]
  },
  {
   "cell_type": "markdown",
   "metadata": {},
   "source": [
    "In order to overcome the class imbalanced issue, the F1 scores for each class are calculated separately by setting the average=\"macro\", and the total F1 score is then calculated by taking the unweighted average of these values."
   ]
  },
  {
   "cell_type": "code",
   "execution_count": 43,
   "metadata": {
    "colab": {
     "base_uri": "https://localhost:8080/",
     "height": 472
    },
    "id": "cfDDC14mkl1w",
    "outputId": "00b33abf-7799-4084-b45a-c505f28e2e4c"
   },
   "outputs": [
    {
     "data": {
      "image/png": "[encoded data removed]",
      "text/plain": [
       "<Figure size 720x360 with 1 Axes>"
      ]
     },
     "metadata": {
      "needs_background": "light"
     },
     "output_type": "display_data"
    }
   ],
   "source": [
    "# Plot f1 score against k\n",
    "score = []\n",
    "for i in range(1, 31):\n",
    "    knn = KNeighborsClassifier(n_neighbors=i).fit(X_train, y_train)\n",
    "    yhat = knn.predict(X_test)\n",
    "    score.append(f1_score(y_test, yhat, average=\"macro\"))\n",
    "\n",
    "plt.figure(figsize=(10, 5)) \n",
    "plt.plot(range(1,31), score)\n",
    "plt.title(\"F1-score against k\")\n",
    "plt.ylabel(\"F1-score\")\n",
    "plt.xlabel(\"Number of neighbors, k\")\n",
    "plt.show()"
   ]
  },
  {
   "cell_type": "code",
   "execution_count": 46,
   "metadata": {
    "colab": {
     "base_uri": "https://localhost:8080/"
    },
    "id": "PkVOOu72kl1x",
    "outputId": "2d733eda-45b2-46fd-94de-e46095f302fe"
   },
   "outputs": [
    {
     "name": "stdout",
     "output_type": "stream",
     "text": [
      "Fitting 5 folds for each of 180 candidates, totalling 900 fits\n",
      "{'metric': 'manhattan', 'n_neighbors': 1, 'weights': 'uniform'}\n",
      "\n",
      "classification_report:\n",
      "              precision    recall  f1-score   support\n",
      "\n",
      "           0       0.94      0.99      0.97       129\n",
      "           1       0.50      0.11      0.18         9\n",
      "\n",
      "    accuracy                           0.93       138\n",
      "   macro avg       0.72      0.55      0.57       138\n",
      "weighted avg       0.91      0.93      0.91       138\n",
      "\n"
     ]
    }
   ],
   "source": [
    "# Find optimal parameters for KNN using GridSearchCV\n",
    "\n",
    "# Define a base KNN model\n",
    "knn = KNeighborsClassifier()\n",
    "\n",
    "# Define the parameters to experiment\n",
    "search_params = {\n",
    "    \"n_neighbors\": range(1,31),\n",
    "    \"weights\": [\"uniform\", \"distance\"],\n",
    "    \"metric\": [\"euclidean\", \"manhattan\", \"minkowski\"]\n",
    "}\n",
    "\n",
    "# Fit the grid search\n",
    "grid_search = GridSearchCV(estimator=knn, param_grid=search_params,\n",
    "                           scoring=\"f1\", verbose=1, cv=5)\n",
    "grid_search.fit(X_train, y_train)\n",
    "\n",
    "# Print the optimal parameters\n",
    "print(grid_search.best_params_)\n",
    "\n",
    "# Train KNN model with optimal parameters found by GridSearchCV\n",
    "knn_grid_search = KNeighborsClassifier(**grid_search.best_params_)\n",
    "knn_grid_search.fit(X_train, y_train)\n",
    "\n",
    "# Test on validation set\n",
    "y_pred = knn_grid_search.predict(X_valid)\n",
    "print(\"\\nclassification_report:\\n\"+classification_report(y_valid, y_pred))"
   ]
  },
  {
   "cell_type": "markdown",
   "metadata": {},
   "source": [
    "We have opt to tune the parameters manually through trail and error method since the result we got from the GridSearchCV is not to our expectation. "
   ]
  },
  {
   "cell_type": "code",
   "execution_count": 47,
   "metadata": {
    "colab": {
     "base_uri": "https://localhost:8080/"
    },
    "id": "waQoQ7M8Y60S",
    "outputId": "4be9dd79-e4d5-4398-bf83-14505f96fed7"
   },
   "outputs": [
    {
     "name": "stdout",
     "output_type": "stream",
     "text": [
      "classification_report:\n",
      "              precision    recall  f1-score   support\n",
      "\n",
      "           0       0.94      1.00      0.97       129\n",
      "           1       1.00      0.11      0.20         9\n",
      "\n",
      "    accuracy                           0.94       138\n",
      "   macro avg       0.97      0.56      0.58       138\n",
      "weighted avg       0.95      0.94      0.92       138\n",
      "\n"
     ]
    }
   ],
   "source": [
    "# Find the best parameters for KNN by trial and error\n",
    "knn = KNeighborsClassifier(n_neighbors=3, weights=\"distance\", metric=\"euclidean\")\n",
    "\n",
    "# Fit the training set\n",
    "knn.fit(X_train, y_train)\n",
    "\n",
    "# Evaluated tuned parameters with validation set\n",
    "y_pred = knn.predict(X_valid)\n",
    "print(\"classification_report:\\n\"+classification_report(y_valid, y_pred))"
   ]
  },
  {
   "cell_type": "markdown",
   "metadata": {},
   "source": [
    "##### Decision Tree"
   ]
  },
  {
   "cell_type": "markdown",
   "metadata": {},
   "source": [
    "The class imbalance issue in the dataset is handled with the class_weight=\"balanced\" argument. When \"balanced\" is selected, the class weights are automatically adjusted in an inverse proportion to the input data's class frequencies. It implies that the algorithm will give minority classes larger weights and majority classes lower weights. In situations when there is a substantial class imbalance, this aids in giving the minority classes more priority during the training process."
   ]
  },
  {
   "cell_type": "code",
   "execution_count": 55,
   "metadata": {
    "colab": {
     "base_uri": "https://localhost:8080/",
     "height": 998
    },
    "id": "OWR7OC-STZVz",
    "outputId": "d22677b1-ccf3-498f-c9ea-08c1759bf79e"
   },
   "outputs": [
    {
     "name": "stdout",
     "output_type": "stream",
     "text": [
      "Fitting 5 folds for each of 9 candidates, totalling 45 fits\n",
      "{'max_depth': 3, 'min_samples_split': 2}\n",
      "\n",
      "Visualise the decision tree:\n"
     ]
    },
    {
     "data": {
      "image/png": "[encoded data removed]",
      "text/plain": [
       "<Figure size 1152x720 with 1 Axes>"
      ]
     },
     "metadata": {
      "needs_background": "light"
     },
     "output_type": "display_data"
    },
    {
     "name": "stdout",
     "output_type": "stream",
     "text": [
      "classification_report:\n",
      "              precision    recall  f1-score   support\n",
      "\n",
      "           0       0.95      0.95      0.95       129\n",
      "           1       0.30      0.33      0.32         9\n",
      "\n",
      "    accuracy                           0.91       138\n",
      "   macro avg       0.63      0.64      0.63       138\n",
      "weighted avg       0.91      0.91      0.91       138\n",
      "\n"
     ]
    }
   ],
   "source": [
    "# Find optimal parameters for decision tree using GridSearchCV\n",
    "\n",
    "# Define a base DecisionTree model\n",
    "dt_grid_search = DecisionTreeClassifier(class_weight=\"balanced\", random_state=42)\n",
    "\n",
    "# Define the parameters to experiment\n",
    "search_params = {\n",
    "    \"min_samples_split\": [2, 3, 4],\n",
    "    \"max_depth\": [3, 4, 5],\n",
    "}\n",
    "\n",
    "# Fit the grid search\n",
    "grid_search = GridSearchCV(estimator=dt_grid_search, param_grid=search_params,\n",
    "                           scoring=\"f1\", verbose=1, cv=5)\n",
    "grid_search.fit(X_train, y_train)\n",
    "\n",
    "# Print the optimal parameters\n",
    "print(grid_search.best_params_)\n",
    "\n",
    "# Train the decision tree with the optimal parameters found by GridSearch\n",
    "dt_grid_search = DecisionTreeClassifier(**grid_search.best_params_,\n",
    "                                        class_weight=\"balanced\", random_state=42)\n",
    "dt_grid_search.fit(X_train, y_train)\n",
    "\n",
    "# Visualise the decision tree\n",
    "print(\"\\nVisualise the decision tree:\")\n",
    "plt.figure(figsize=(16, 10))\n",
    "plot_tree(dt_grid_search)\n",
    "plt.show()\n",
    "\n",
    "# Test on validation set\n",
    "y_pred = grid_search.predict(X_valid)\n",
    "print(\"classification_report:\\n\"+classification_report(y_valid, y_pred))"
   ]
  },
  {
   "cell_type": "markdown",
   "metadata": {},
   "source": [
    "We have opt to tune the parameters manually through trail and error method since the result that we got from the GridSearchCV is not to our expectation. "
   ]
  },
  {
   "cell_type": "code",
   "execution_count": 54,
   "metadata": {
    "colab": {
     "base_uri": "https://localhost:8080/",
     "height": 963
    },
    "id": "kyWPA7dKkl10",
    "outputId": "191e347d-8236-4670-827b-b62341acd9cb"
   },
   "outputs": [
    {
     "name": "stdout",
     "output_type": "stream",
     "text": [
      "Visualise the decision tree:\n"
     ]
    },
    {
     "data": {
      "image/png": "[encoded data removed]",
      "text/plain": [
       "<Figure size 1152x720 with 1 Axes>"
      ]
     },
     "metadata": {
      "needs_background": "light"
     },
     "output_type": "display_data"
    },
    {
     "name": "stdout",
     "output_type": "stream",
     "text": [
      "classification_report:\n",
      "              precision    recall  f1-score   support\n",
      "\n",
      "           0       0.97      0.95      0.96       129\n",
      "           1       0.42      0.56      0.48         9\n",
      "\n",
      "    accuracy                           0.92       138\n",
      "   macro avg       0.69      0.75      0.72       138\n",
      "weighted avg       0.93      0.92      0.93       138\n",
      "\n"
     ]
    }
   ],
   "source": [
    "# Find the best parameters for DecisionTree by trial and error\n",
    "dt = DecisionTreeClassifier(min_samples_split=2, max_depth=4, class_weight=\"balanced\", random_state=42)\n",
    "\n",
    "# Fit the training set\n",
    "dt.fit(X_train, y_train)\n",
    "\n",
    "# Visualise the decision tree\n",
    "print(\"Visualise the decision tree:\")\n",
    "plt.figure(figsize=(16, 10))\n",
    "plot_tree(dt)\n",
    "plt.show()\n",
    "\n",
    "# Evaluate tuned parameters with validation set\n",
    "y_pred = dt.predict(X_valid)\n",
    "print(\"classification_report:\\n\"+classification_report(y_valid, y_pred))"
   ]
  },
  {
   "cell_type": "markdown",
   "metadata": {},
   "source": [
    "##### Logistic regression"
   ]
  },
  {
   "cell_type": "code",
   "execution_count": 53,
   "metadata": {
    "colab": {
     "base_uri": "https://localhost:8080/"
    },
    "id": "LL5V6Z4xXDfE",
    "outputId": "2fe737ae-4cd6-4dd9-cee4-9d70697feccd"
   },
   "outputs": [
    {
     "name": "stdout",
     "output_type": "stream",
     "text": [
      "classification_report:\n",
      "              precision    recall  f1-score   support\n",
      "\n",
      "           0       0.95      0.93      0.94       129\n",
      "           1       0.25      0.33      0.29         9\n",
      "\n",
      "    accuracy                           0.89       138\n",
      "   macro avg       0.60      0.63      0.61       138\n",
      "weighted avg       0.91      0.89      0.90       138\n",
      "\n"
     ]
    }
   ],
   "source": [
    "# Logistic regression using gradient descent\n",
    "\n",
    "# Tune the learning rate by trial and error\n",
    "lr = SGDClassifier(loss=\"log_loss\", eta0=0.001, max_iter=300, class_weight=\"balanced\", learning_rate=\"constant\", random_state=42)\n",
    "\n",
    "# Fit the training set\n",
    "lr.fit(X_train, y_train)\n",
    "\n",
    "# Evaluate tuned parameters with validation set\n",
    "y_pred = lr.predict(X_valid)\n",
    "print(\"classification_report:\\n\"+classification_report(y_valid, y_pred))"
   ]
  },
  {
   "cell_type": "markdown",
   "metadata": {
    "id": "fK-8R2tSkl14"
   },
   "source": [
    "#### Evaluate the models\n",
    "Perform a comparison between the predictive models. <br>\n",
    "Report the accuracy, recall, precision and F1-score measures as well as the confusion matrix if it is a classification problem. <br>\n",
    "Report the R2 score, mean squared error and mean absolute error if it is a regression problem.\n",
    "______________________________________________________________________________________\n",
    "Description:\n",
    "\n",
    "\n",
    "Each trained model was used to predict the testing set to evaluate the final performance of the models for comparison. We report the accuracy, precision, recall, F1-score and confusion matrix for evaluation. The precision, recall and F1-score were reported as macro averages to apply penalty when the model fails to predict the minority class, which was suitable for our unbalanced dataset. The results are reported in the table below.\n",
    "\n",
    "\n",
    "| Model | Accuracy | Precision | Recall | F1-score |\n",
    "|-------|----------|-----------|--------|----------|\n",
    "| DT    | 0.83     | 0.54      | 0.57   | 0.54     |\n",
    "| KNN   | 0.92     | 0.47      | 0.49   | 0.48     |\n",
    "| LR    | 0.83     | 0.55      | 0.61   | 0.56     |\n",
    "\n",
    "Based on the provided metrics, the KNN model outperforms the Decision Tree model in terms of accuracy by which the KNN model achieves a higher accuracy (0.92) compared to the Decision Tree model (0.83).\n",
    "\n",
    "However, when doing classification, it is important to note that precision, recall, and F1-score are metrics that take into account both the true positive and false positive and negative predictions. In this case, the KNN model has lower precision, recall, and F1-score values compared to the Decision Tree model. This suggests that although the KNN model achieves higher overall accuracy, it may struggle with correctly classifying positive instances due to low precision and capturing all positive instances due to low recall. \n",
    "\n",
    "Overall, even the best model was only able to achieve 0.56 F1-score, which can be explained by the lack of representation of '1' class in the data. Other methods such as oversampling may be considered to address the class imbalance but its implementation was outside the scope of this project."
   ]
  },
  {
   "cell_type": "code",
   "execution_count": 64,
   "metadata": {
    "id": "KWZg4YcWT9va"
   },
   "outputs": [],
   "source": [
    "# Helper function to print evaluation metrics\n",
    "def show_metrics(y, yhat, clf):\n",
    "    print(f\"Accuracy: {accuracy_score(y, yhat):.4f}\")\n",
    "    print(f\"Recall = {recall_score(y, yhat, average='macro'):.4f}\")\n",
    "    print(f\"Precision = {precision_score(y, yhat, average='macro'):.4f}\")\n",
    "    print(f\"F1-score = {f1_score(y, yhat, average='macro'):.4f}\")\n",
    "\n",
    "    print(\"\\nConfusion Matrix: \")\n",
    "    cm = confusion_matrix(y, yhat, labels=clf.classes_)\n",
    "    disp = ConfusionMatrixDisplay(confusion_matrix=cm,\n",
    "                                  display_labels=clf.classes_)\n",
    "    disp.plot()\n",
    "    plt.show()"
   ]
  },
  {
   "cell_type": "code",
   "execution_count": 65,
   "metadata": {
    "colab": {
     "base_uri": "https://localhost:8080/",
     "height": 559
    },
    "id": "WEdudcNJkl15",
    "outputId": "03fea54a-0263-4f46-fdb8-83451957f993"
   },
   "outputs": [
    {
     "name": "stdout",
     "output_type": "stream",
     "text": [
      "Decision tree model\n",
      "-------------------\n",
      "Accuracy: 0.8314\n",
      "Recall = 0.5711\n",
      "Precision = 0.5355\n",
      "F1-score = 0.5388\n",
      "\n",
      "Confusion Matrix: \n"
     ]
    },
    {
     "data": {
      "image/png": "[encoded data removed]",
      "text/plain": [
       "<Figure size 432x288 with 2 Axes>"
      ]
     },
     "metadata": {
      "needs_background": "light"
     },
     "output_type": "display_data"
    }
   ],
   "source": [
    "# Predict the test set with DT model\n",
    "y_pred = dt.predict(X_test)\n",
    "\n",
    "print(\"Decision tree model\\n-------------------\")\n",
    "show_metrics(y_test, y_pred, dt)"
   ]
  },
  {
   "cell_type": "code",
   "execution_count": 66,
   "metadata": {
    "colab": {
     "base_uri": "https://localhost:8080/",
     "height": 553
    },
    "id": "UHFdjuBqkl15",
    "outputId": "54076a15-eac2-4832-de22-19f50d634634"
   },
   "outputs": [
    {
     "name": "stdout",
     "output_type": "stream",
     "text": [
      "K-nearest neighbors model\n",
      "-------------------------\n",
      "Accuracy: 0.9244\n",
      "Recall = 0.4938\n",
      "Precision = 0.4676\n",
      "F1-score = 0.4804\n",
      "\n",
      "Confusion Matrix: \n"
     ]
    },
    {
     "data": {
      "image/png": "[encoded data removed]",
      "text/plain": [
       "<Figure size 432x288 with 2 Axes>"
      ]
     },
     "metadata": {
      "needs_background": "light"
     },
     "output_type": "display_data"
    }
   ],
   "source": [
    "# Predict the test set with KNN model\n",
    "y_pred = knn.predict(X_test)\n",
    "\n",
    "print(\"K-nearest neighbors model\\n-------------------------\")\n",
    "show_metrics(y_test, y_pred, knn)"
   ]
  },
  {
   "cell_type": "code",
   "execution_count": 67,
   "metadata": {
    "colab": {
     "base_uri": "https://localhost:8080/",
     "height": 553
    },
    "id": "z2luMxxXX2ki",
    "outputId": "b6d52474-66a8-4c4d-e4c3-9d23eb4562b9"
   },
   "outputs": [
    {
     "name": "stdout",
     "output_type": "stream",
     "text": [
      "Logistic regression model\n",
      "-------------------------\n",
      "Accuracy: 0.8256\n",
      "Recall = 0.6104\n",
      "Precision = 0.5499\n",
      "F1-score = 0.5562\n",
      "\n",
      "Confusion Matrix: \n"
     ]
    },
    {
     "data": {
      "image/png": "[encoded data removed]",
      "text/plain": [
       "<Figure size 432x288 with 2 Axes>"
      ]
     },
     "metadata": {
      "needs_background": "light"
     },
     "output_type": "display_data"
    }
   ],
   "source": [
    "# Predict the test set with logistic regression model\n",
    "y_pred = lr.predict(X_test)\n",
    "\n",
    "print(\"Logistic regression model\\n-------------------------\")\n",
    "show_metrics(y_test, y_pred, lr)"
   ]
  },
  {
   "cell_type": "markdown",
   "metadata": {
    "id": "sUvJX4ax2cwv"
   },
   "source": [
    "#### References\n",
    "[1] M. F. Ijaz, M. Attique, and Y. Son, “Data-Driven Cervical Cancer Prediction Model with Outlier Detection and Over-Sampling Methods,” Sensors (Basel), vol. 20, no. 10, p. 2809, May 2020, doi: 10.3390/s20102809.\n",
    "\n",
    "[2] W. Wu and H. Zhou, “Data-Driven Diagnosis of Cervical Cancer With Support Vector Machine-Based Approaches,” IEEE Access, vol. 5, pp. 25189–25195, 2017, doi: 10.1109/ACCESS.2017.2763984.\n"
   ]
  }
 ],
 "metadata": {
  "colab": {
   "provenance": []
  },
  "kernelspec": {
   "display_name": "Python 3 (ipykernel)",
   "language": "python",
   "name": "python3"
  },
  "language_info": {
   "codemirror_mode": {
    "name": "ipython",
    "version": 3
   },
   "file_extension": ".py",
   "mimetype": "text/x-python",
   "name": "python",
   "nbconvert_exporter": "python",
   "pygments_lexer": "ipython3",
   "version": "3.10.4"
  }
 },
 "nbformat": 4,
 "nbformat_minor": 1
}
